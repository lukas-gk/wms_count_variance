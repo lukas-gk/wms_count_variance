{
 "cells": [
  {
   "cell_type": "markdown",
   "metadata": {},
   "source": [
    "# Model to Predict Cycle Count Variance Probabilities\n",
    "\n",
    "### The features which will be inputted are:\n",
    "\n",
    "##### Part Volume: the volume of the Each footprint for the part\n",
    "##### Part Weight: the net weight of the Each footprint for the part\n",
    "##### ABC Code: the ABC Code for the part\n",
    "##### Time Since Last Count: the number of days elapsed since the part/location combination was counted\n",
    "##### Total Picks: the number of picks completed for this part/location combination since it was last counted\n",
    "##### Count Variance: 0 = not variant, 1 = variant\n",
    "\n",
    "#### Note: the data ignores Count Audits, and only considers count history records for non-Audit Count Types"
   ]
  },
  {
   "cell_type": "code",
   "execution_count": 13,
   "metadata": {},
   "outputs": [
    {
     "name": "stdout",
     "output_type": "stream",
     "text": [
      "C:\\Users\\034993\\Documents\\Jupyter Notebooks\\Count Variance Project\n"
     ]
    }
   ],
   "source": [
    "#imports\n",
    "import pandas as pd\n",
    "import os\n",
    "\n",
    "#validate current working directory and convert data to pandas dataframe\n",
    "print(os.getcwd())\n",
    "train = pd.read_excel(\"./count_train_data.xlsx\")\n",
    "test = pd.read_excel(\"./count_test_data.xlsx\")"
   ]
  },
  {
   "cell_type": "code",
   "execution_count": 14,
   "metadata": {},
   "outputs": [
    {
     "name": "stdout",
     "output_type": "stream",
     "text": [
      "Train Data:\n",
      "\n",
      "   part_volume  part_weight abccod  time_since_last_cntdte  total_picks  \\\n",
      "0          1.0          1.0      C                   99999            0   \n",
      "1        576.0         16.0      C                   99999            0   \n",
      "2          1.0          1.0      C                   99999            0   \n",
      "3        126.0         16.0      C                     279            0   \n",
      "4          1.0          1.0      C                      28            0   \n",
      "\n",
      "   count_variance  \n",
      "0               0  \n",
      "1               0  \n",
      "2               0  \n",
      "3               0  \n",
      "4               0  \n",
      "\n",
      "Test Data:\n",
      "\n"
     ]
    },
    {
     "data": {
      "text/html": [
       "<div>\n",
       "<style>\n",
       "    .dataframe thead tr:only-child th {\n",
       "        text-align: right;\n",
       "    }\n",
       "\n",
       "    .dataframe thead th {\n",
       "        text-align: left;\n",
       "    }\n",
       "\n",
       "    .dataframe tbody tr th {\n",
       "        vertical-align: top;\n",
       "    }\n",
       "</style>\n",
       "<table border=\"1\" class=\"dataframe\">\n",
       "  <thead>\n",
       "    <tr style=\"text-align: right;\">\n",
       "      <th></th>\n",
       "      <th>part_volume</th>\n",
       "      <th>part_weight</th>\n",
       "      <th>abccod</th>\n",
       "      <th>time_since_last_cntdte</th>\n",
       "      <th>total_picks</th>\n",
       "      <th>count_variance</th>\n",
       "    </tr>\n",
       "  </thead>\n",
       "  <tbody>\n",
       "    <tr>\n",
       "      <th>0</th>\n",
       "      <td>576.0</td>\n",
       "      <td>16</td>\n",
       "      <td>C</td>\n",
       "      <td>99999</td>\n",
       "      <td>0</td>\n",
       "      <td>0</td>\n",
       "    </tr>\n",
       "    <tr>\n",
       "      <th>1</th>\n",
       "      <td>1.0</td>\n",
       "      <td>1</td>\n",
       "      <td>C</td>\n",
       "      <td>99999</td>\n",
       "      <td>0</td>\n",
       "      <td>0</td>\n",
       "    </tr>\n",
       "    <tr>\n",
       "      <th>2</th>\n",
       "      <td>1.0</td>\n",
       "      <td>16</td>\n",
       "      <td>C</td>\n",
       "      <td>99999</td>\n",
       "      <td>0</td>\n",
       "      <td>0</td>\n",
       "    </tr>\n",
       "    <tr>\n",
       "      <th>3</th>\n",
       "      <td>1.0</td>\n",
       "      <td>1</td>\n",
       "      <td>C</td>\n",
       "      <td>99999</td>\n",
       "      <td>0</td>\n",
       "      <td>0</td>\n",
       "    </tr>\n",
       "    <tr>\n",
       "      <th>4</th>\n",
       "      <td>1.0</td>\n",
       "      <td>1</td>\n",
       "      <td>C</td>\n",
       "      <td>99999</td>\n",
       "      <td>0</td>\n",
       "      <td>0</td>\n",
       "    </tr>\n",
       "  </tbody>\n",
       "</table>\n",
       "</div>"
      ],
      "text/plain": [
       "   part_volume  part_weight abccod  time_since_last_cntdte  total_picks  \\\n",
       "0        576.0           16      C                   99999            0   \n",
       "1          1.0            1      C                   99999            0   \n",
       "2          1.0           16      C                   99999            0   \n",
       "3          1.0            1      C                   99999            0   \n",
       "4          1.0            1      C                   99999            0   \n",
       "\n",
       "   count_variance  \n",
       "0               0  \n",
       "1               0  \n",
       "2               0  \n",
       "3               0  \n",
       "4               0  "
      ]
     },
     "execution_count": 14,
     "metadata": {},
     "output_type": "execute_result"
    }
   ],
   "source": [
    "print(\"Train Data:\")\n",
    "print(\"\")\n",
    "print(train.head())\n",
    "print(\"\")\n",
    "print(\"Test Data:\")\n",
    "print(\"\")\n",
    "test.head()"
   ]
  },
  {
   "cell_type": "code",
   "execution_count": 15,
   "metadata": {},
   "outputs": [
    {
     "name": "stdout",
     "output_type": "stream",
     "text": [
      "<class 'pandas.core.frame.DataFrame'>\n",
      "RangeIndex: 999 entries, 0 to 998\n",
      "Data columns (total 6 columns):\n",
      "part_volume               999 non-null float64\n",
      "part_weight               999 non-null float64\n",
      "abccod                    999 non-null object\n",
      "time_since_last_cntdte    999 non-null int64\n",
      "total_picks               999 non-null int64\n",
      "count_variance            999 non-null int64\n",
      "dtypes: float64(2), int64(3), object(1)\n",
      "memory usage: 46.9+ KB\n",
      " \n",
      "<class 'pandas.core.frame.DataFrame'>\n",
      "RangeIndex: 199 entries, 0 to 198\n",
      "Data columns (total 6 columns):\n",
      "part_volume               199 non-null float64\n",
      "part_weight               199 non-null int64\n",
      "abccod                    199 non-null object\n",
      "time_since_last_cntdte    199 non-null int64\n",
      "total_picks               199 non-null int64\n",
      "count_variance            199 non-null int64\n",
      "dtypes: float64(1), int64(4), object(1)\n",
      "memory usage: 9.4+ KB\n"
     ]
    }
   ],
   "source": [
    "# validate all fields are non-null and look at data types\n",
    "train.info()\n",
    "print(\" \")\n",
    "test.info()"
   ]
  },
  {
   "cell_type": "code",
   "execution_count": 16,
   "metadata": {},
   "outputs": [
    {
     "data": {
      "text/plain": [
       "count_variance            1.000000\n",
       "total_picks               0.072343\n",
       "time_since_last_cntdte    0.035958\n",
       "part_weight              -0.008698\n",
       "part_volume              -0.024605\n",
       "Name: count_variance, dtype: float64"
      ]
     },
     "execution_count": 16,
     "metadata": {},
     "output_type": "execute_result"
    }
   ],
   "source": [
    "# look at a correlation matrix to see if any features are strongly correlated to count variance\n",
    "corr_matrix = train.corr()\n",
    "corr_matrix['count_variance'].sort_values(ascending=False)"
   ]
  },
  {
   "cell_type": "code",
   "execution_count": 17,
   "metadata": {
    "collapsed": true
   },
   "outputs": [],
   "source": [
    "# create train and test X,y variables\n",
    "X_train = train.drop(['count_variance'], axis=1)\n",
    "y_train = train['count_variance']\n",
    "\n",
    "X_test = test.drop(['count_variance'], axis=1)\n",
    "y_test = test['count_variance']"
   ]
  },
  {
   "cell_type": "code",
   "execution_count": 18,
   "metadata": {
    "collapsed": true
   },
   "outputs": [],
   "source": [
    "#encode categorial variables to integer label (abccod field)\n",
    "from sklearn import preprocessing\n",
    "le = preprocessing.LabelEncoder()\n",
    "\n",
    "X_train.abccod = le.fit_transform(X_train.abccod)\n",
    "X_test.abccod = le.fit_transform(X_test.abccod)"
   ]
  },
  {
   "cell_type": "code",
   "execution_count": 19,
   "metadata": {},
   "outputs": [
    {
     "data": {
      "text/plain": [
       "LogisticRegression(C=1.0, class_weight=None, dual=False, fit_intercept=True,\n",
       "          intercept_scaling=1, max_iter=100, multi_class='ovr', n_jobs=1,\n",
       "          penalty='l2', random_state=None, solver='liblinear', tol=0.0001,\n",
       "          verbose=0, warm_start=False)"
      ]
     },
     "execution_count": 19,
     "metadata": {},
     "output_type": "execute_result"
    }
   ],
   "source": [
    "#import Logistic Regression model and train it with training data\n",
    "\n",
    "from sklearn.linear_model import LogisticRegression\n",
    "logistic = LogisticRegression()\n",
    "logistic.fit(X_train,y_train)"
   ]
  },
  {
   "cell_type": "code",
   "execution_count": 20,
   "metadata": {},
   "outputs": [
    {
     "data": {
      "text/plain": [
       "array([0, 0, 0, 0, 0, 0, 0, 0, 0, 0, 0, 0, 0, 0, 0, 0, 0, 0, 0, 0, 0, 0, 0,\n",
       "       0, 0, 0, 0, 0, 0, 0, 0, 0, 0, 0, 0, 0, 0, 0, 0, 0, 0, 0, 0, 0, 0, 0,\n",
       "       0, 0, 0, 0, 0, 0, 0, 0, 0, 0, 0, 0, 0, 0, 0, 0, 0, 0, 0, 0, 0, 0, 0,\n",
       "       0, 0, 0, 0, 0, 0, 0, 0, 0, 0, 0, 0, 0, 0, 0, 0, 0, 0, 0, 0, 0, 0, 0,\n",
       "       0, 0, 0, 0, 0, 0, 0, 0, 0, 0, 0, 0, 0, 0, 0, 0, 0, 0, 0, 0, 0, 0, 0,\n",
       "       0, 0, 0, 0, 0, 0, 0, 0, 0, 0, 0, 0, 0, 0, 0, 0, 0, 0, 0, 0, 0, 0, 0,\n",
       "       0, 0, 0, 0, 0, 0, 0, 0, 0, 0, 0, 0, 0, 0, 0, 0, 0, 0, 0, 0, 0, 0, 0,\n",
       "       0, 0, 0, 0, 0, 0, 0, 0, 0, 0, 0, 0, 0, 0, 0, 0, 0, 0, 0, 0, 0, 0, 0,\n",
       "       0, 0, 0, 0, 0, 0, 0, 0, 0, 0, 0, 0, 0, 0, 0], dtype=int64)"
      ]
     },
     "execution_count": 20,
     "metadata": {},
     "output_type": "execute_result"
    }
   ],
   "source": [
    "#predict values for the test data\n",
    "logistic.predict(X_test)"
   ]
  },
  {
   "cell_type": "code",
   "execution_count": 21,
   "metadata": {},
   "outputs": [
    {
     "data": {
      "text/plain": [
       "array([[ 0.99031824,  0.00968176],\n",
       "       [ 0.9072378 ,  0.0927622 ],\n",
       "       [ 0.98978511,  0.01021489],\n",
       "       [ 0.9072378 ,  0.0927622 ],\n",
       "       [ 0.9072378 ,  0.0927622 ],\n",
       "       [ 0.9072378 ,  0.0927622 ],\n",
       "       [ 0.9072378 ,  0.0927622 ],\n",
       "       [ 0.9072378 ,  0.0927622 ],\n",
       "       [ 0.9072378 ,  0.0927622 ],\n",
       "       [ 0.98978511,  0.01021489],\n",
       "       [ 0.9072378 ,  0.0927622 ],\n",
       "       [ 0.93120719,  0.06879281],\n",
       "       [ 0.93393456,  0.06606544],\n",
       "       [ 0.970387  ,  0.029613  ],\n",
       "       [ 0.98988647,  0.01011353],\n",
       "       [ 0.93124197,  0.06875803],\n",
       "       [ 0.98979306,  0.01020694],\n",
       "       [ 0.57720023,  0.42279977],\n",
       "       [ 0.57833891,  0.42166109],\n",
       "       [ 0.9072378 ,  0.0927622 ],\n",
       "       [ 0.99031824,  0.00968176],\n",
       "       [ 0.57724829,  0.42275171],\n",
       "       [ 0.57758468,  0.42241532],\n",
       "       [ 0.98978511,  0.01021489],\n",
       "       [ 0.57746936,  0.42253064],\n",
       "       [ 0.9072378 ,  0.0927622 ],\n",
       "       [ 0.9072378 ,  0.0927622 ],\n",
       "       [ 0.57810355,  0.42189645],\n",
       "       [ 0.57766156,  0.42233844],\n",
       "       [ 0.9312697 ,  0.0687303 ],\n",
       "       [ 0.931339  ,  0.068661  ],\n",
       "       [ 0.57728193,  0.42271807],\n",
       "       [ 0.99031824,  0.00968176],\n",
       "       [ 0.57820442,  0.42179558],\n",
       "       [ 0.57751741,  0.42248259],\n",
       "       [ 0.98978511,  0.01021489],\n",
       "       [ 0.99031824,  0.00968176],\n",
       "       [ 0.57755105,  0.42244895],\n",
       "       [ 0.9072378 ,  0.0927622 ],\n",
       "       [ 0.9072378 ,  0.0927622 ],\n",
       "       [ 0.98978511,  0.01021489],\n",
       "       [ 0.57746936,  0.42253064],\n",
       "       [ 0.9072378 ,  0.0927622 ],\n",
       "       [ 0.93478381,  0.06521619],\n",
       "       [ 0.9072378 ,  0.0927622 ],\n",
       "       [ 0.99031824,  0.00968176],\n",
       "       [ 0.9072378 ,  0.0927622 ],\n",
       "       [ 0.57737805,  0.42262195],\n",
       "       [ 0.9072378 ,  0.0927622 ],\n",
       "       [ 0.93148118,  0.06851882],\n",
       "       [ 0.9072378 ,  0.0927622 ],\n",
       "       [ 0.9072378 ,  0.0927622 ],\n",
       "       [ 0.99031824,  0.00968176],\n",
       "       [ 0.99031824,  0.00968176],\n",
       "       [ 0.9340568 ,  0.0659432 ],\n",
       "       [ 0.57754144,  0.42245856],\n",
       "       [ 0.93150883,  0.06849117],\n",
       "       [ 0.57778168,  0.42221832],\n",
       "       [ 0.9072378 ,  0.0927622 ],\n",
       "       [ 0.5783197 ,  0.4216803 ],\n",
       "       [ 0.58522167,  0.41477833],\n",
       "       [ 0.93126088,  0.06873912],\n",
       "       [ 0.9072378 ,  0.0927622 ],\n",
       "       [ 0.99031824,  0.00968176],\n",
       "       [ 0.9072378 ,  0.0927622 ],\n",
       "       [ 0.5774213 ,  0.4225787 ],\n",
       "       [ 0.57799787,  0.42200213],\n",
       "       [ 0.59256119,  0.40743881],\n",
       "       [ 0.98978511,  0.01021489],\n",
       "       [ 0.9072378 ,  0.0927622 ],\n",
       "       [ 0.9072378 ,  0.0927622 ],\n",
       "       [ 0.59350707,  0.40649293],\n",
       "       [ 0.9072378 ,  0.0927622 ],\n",
       "       [ 0.99031824,  0.00968176],\n",
       "       [ 0.99031824,  0.00968176],\n",
       "       [ 0.99031824,  0.00968176],\n",
       "       [ 0.57846858,  0.42153142],\n",
       "       [ 0.9332758 ,  0.0667242 ],\n",
       "       [ 0.57786336,  0.42213664],\n",
       "       [ 0.9072378 ,  0.0927622 ],\n",
       "       [ 0.9072378 ,  0.0927622 ],\n",
       "       [ 0.9072378 ,  0.0927622 ],\n",
       "       [ 0.57745013,  0.42254987],\n",
       "       [ 0.9072378 ,  0.0927622 ],\n",
       "       [ 0.93147615,  0.06852385],\n",
       "       [ 0.5774213 ,  0.4225787 ],\n",
       "       [ 0.9072378 ,  0.0927622 ],\n",
       "       [ 0.93466484,  0.06533516],\n",
       "       [ 0.98978511,  0.01021489],\n",
       "       [ 0.93189968,  0.06810032],\n",
       "       [ 0.99031824,  0.00968176],\n",
       "       [ 0.99031824,  0.00968176],\n",
       "       [ 0.9072378 ,  0.0927622 ],\n",
       "       [ 0.93828646,  0.06171354],\n",
       "       [ 0.57760871,  0.42239129],\n",
       "       [ 0.9072378 ,  0.0927622 ],\n",
       "       [ 0.57757507,  0.42242493],\n",
       "       [ 0.9072378 ,  0.0927622 ],\n",
       "       [ 0.93150577,  0.06849423],\n",
       "       [ 0.9072378 ,  0.0927622 ],\n",
       "       [ 0.9072378 ,  0.0927622 ],\n",
       "       [ 0.9072378 ,  0.0927622 ],\n",
       "       [ 0.9072378 ,  0.0927622 ],\n",
       "       [ 0.9072378 ,  0.0927622 ],\n",
       "       [ 0.93142208,  0.06857792],\n",
       "       [ 0.99031824,  0.00968176],\n",
       "       [ 0.57843496,  0.42156504],\n",
       "       [ 0.98978511,  0.01021489],\n",
       "       [ 0.9072378 ,  0.0927622 ],\n",
       "       [ 0.57794503,  0.42205497],\n",
       "       [ 0.9072378 ,  0.0927622 ],\n",
       "       [ 0.9072378 ,  0.0927622 ],\n",
       "       [ 0.9072378 ,  0.0927622 ],\n",
       "       [ 0.93144812,  0.06855188],\n",
       "       [ 0.9072378 ,  0.0927622 ],\n",
       "       [ 0.98978511,  0.01021489],\n",
       "       [ 0.93116374,  0.06883626],\n",
       "       [ 0.9311852 ,  0.0688148 ],\n",
       "       [ 0.9072378 ,  0.0927622 ],\n",
       "       [ 0.9072378 ,  0.0927622 ],\n",
       "       [ 0.57730596,  0.42269404],\n",
       "       [ 0.5774213 ,  0.4225787 ],\n",
       "       [ 0.93126088,  0.06873912],\n",
       "       [ 0.9314334 ,  0.0685666 ],\n",
       "       [ 0.99031824,  0.00968176],\n",
       "       [ 0.9072378 ,  0.0927622 ],\n",
       "       [ 0.57712813,  0.42287187],\n",
       "       [ 0.93142082,  0.06857918],\n",
       "       [ 0.9072378 ,  0.0927622 ],\n",
       "       [ 0.99031824,  0.00968176],\n",
       "       [ 0.57846858,  0.42153142],\n",
       "       [ 0.97223492,  0.02776508],\n",
       "       [ 0.99031824,  0.00968176],\n",
       "       [ 0.9314095 ,  0.0685905 ],\n",
       "       [ 0.98978511,  0.01021489],\n",
       "       [ 0.9312571 ,  0.0687429 ],\n",
       "       [ 0.99031824,  0.00968176],\n",
       "       [ 0.9072378 ,  0.0927622 ],\n",
       "       [ 0.9072378 ,  0.0927622 ],\n",
       "       [ 0.99031824,  0.00968176],\n",
       "       [ 0.96030467,  0.03969533],\n",
       "       [ 0.63801638,  0.36198362],\n",
       "       [ 0.9312571 ,  0.0687429 ],\n",
       "       [ 0.9072378 ,  0.0927622 ],\n",
       "       [ 0.93132137,  0.06867863],\n",
       "       [ 0.578507  ,  0.421493  ],\n",
       "       [ 0.9072378 ,  0.0927622 ],\n",
       "       [ 0.93128861,  0.06871139],\n",
       "       [ 0.9072378 ,  0.0927622 ],\n",
       "       [ 0.99031824,  0.00968176],\n",
       "       [ 0.9072378 ,  0.0927622 ],\n",
       "       [ 0.98978511,  0.01021489],\n",
       "       [ 0.67315407,  0.32684593],\n",
       "       [ 0.9072378 ,  0.0927622 ],\n",
       "       [ 0.98978987,  0.01021013],\n",
       "       [ 0.99031824,  0.00968176],\n",
       "       [ 0.9072378 ,  0.0927622 ],\n",
       "       [ 0.99031824,  0.00968176],\n",
       "       [ 0.96809739,  0.03190261],\n",
       "       [ 0.59308888,  0.40691112],\n",
       "       [ 0.99031824,  0.00968176],\n",
       "       [ 0.9072378 ,  0.0927622 ],\n",
       "       [ 0.59258021,  0.40741979],\n",
       "       [ 0.93140698,  0.06859302],\n",
       "       [ 0.9072378 ,  0.0927622 ],\n",
       "       [ 0.93133271,  0.06866729],\n",
       "       [ 0.99040721,  0.00959279],\n",
       "       [ 0.9072378 ,  0.0927622 ],\n",
       "       [ 0.57711371,  0.42288629],\n",
       "       [ 0.57801709,  0.42198291],\n",
       "       [ 0.9072378 ,  0.0927622 ],\n",
       "       [ 0.9072378 ,  0.0927622 ],\n",
       "       [ 0.93553973,  0.06446027],\n",
       "       [ 0.99031824,  0.00968176],\n",
       "       [ 0.99031824,  0.00968176],\n",
       "       [ 0.57829088,  0.42170912],\n",
       "       [ 0.57812757,  0.42187243],\n",
       "       [ 0.57729154,  0.42270846],\n",
       "       [ 0.57724829,  0.42275171],\n",
       "       [ 0.9072378 ,  0.0927622 ],\n",
       "       [ 0.57822844,  0.42177156],\n",
       "       [ 0.93129113,  0.06870887],\n",
       "       [ 0.57751741,  0.42248259],\n",
       "       [ 0.9072378 ,  0.0927622 ],\n",
       "       [ 0.93124953,  0.06875047],\n",
       "       [ 0.58608193,  0.41391807],\n",
       "       [ 0.9072378 ,  0.0927622 ],\n",
       "       [ 0.9072378 ,  0.0927622 ],\n",
       "       [ 0.99031824,  0.00968176],\n",
       "       [ 0.9072378 ,  0.0927622 ],\n",
       "       [ 0.98978511,  0.01021489],\n",
       "       [ 0.57735402,  0.42264598],\n",
       "       [ 0.93132893,  0.06867107],\n",
       "       [ 0.57741169,  0.42258831],\n",
       "       [ 0.93829071,  0.06170929],\n",
       "       [ 0.98978511,  0.01021489],\n",
       "       [ 0.99031824,  0.00968176],\n",
       "       [ 0.93126088,  0.06873912],\n",
       "       [ 0.9072378 ,  0.0927622 ]])"
      ]
     },
     "execution_count": 21,
     "metadata": {},
     "output_type": "execute_result"
    }
   ],
   "source": [
    "#look at probabilities of test data being 0 to 1\n",
    "logistic.predict_proba(X_test)"
   ]
  },
  {
   "cell_type": "code",
   "execution_count": 22,
   "metadata": {
    "collapsed": true
   },
   "outputs": [],
   "source": [
    "#save model\n",
    "import pickle\n",
    "\n",
    "filename = 'count_model.sav'\n",
    "pickle.dump(logistic, open(filename, 'wb'))"
   ]
  },
  {
   "cell_type": "code",
   "execution_count": 23,
   "metadata": {},
   "outputs": [
    {
     "name": "stdout",
     "output_type": "stream",
     "text": [
      "0.969849246231\n"
     ]
    }
   ],
   "source": [
    "#load saved model and test it\n",
    "loaded_model = pickle.load(open(filename, 'rb'))\n",
    "result = loaded_model.score(X_test, y_test)\n",
    "print(result)"
   ]
  }
 ],
 "metadata": {
  "kernelspec": {
   "display_name": "Python 3",
   "language": "python",
   "name": "python3"
  },
  "language_info": {
   "codemirror_mode": {
    "name": "ipython",
    "version": 3
   },
   "file_extension": ".py",
   "mimetype": "text/x-python",
   "name": "python",
   "nbconvert_exporter": "python",
   "pygments_lexer": "ipython3",
   "version": "3.6.1"
  }
 },
 "nbformat": 4,
 "nbformat_minor": 2
}
